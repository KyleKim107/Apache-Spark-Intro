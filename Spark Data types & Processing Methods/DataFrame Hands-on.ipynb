{
 "cells": [
  {
   "cell_type": "code",
   "execution_count": 0,
   "metadata": {
    "application/vnd.databricks.v1+cell": {
     "cellMetadata": {
      "byteLimit": 2048000,
      "rowLimit": 10000
     },
     "inputWidgets": {},
     "nuid": "bc3512c6-2680-4a19-8c1b-fbc5a3688731",
     "showTitle": false,
     "tableResultSettingsMap": {},
     "title": ""
    }
   },
   "outputs": [
    {
     "output_type": "stream",
     "name": "stdout",
     "output_type": "stream",
     "text": [
      "+---+\n| _1|\n+---+\n|  1|\n|  2|\n|  3|\n+---+\n\n"
     ]
    }
   ],
   "source": [
    "from pyspark.sql import Row\n",
    "data = [Row(1),Row(2),Row(3)]\n",
    "\n",
    "df= spark.createDataFrame(data)\n",
    "df.show()"
   ]
  },
  {
   "cell_type": "code",
   "execution_count": 0,
   "metadata": {
    "application/vnd.databricks.v1+cell": {
     "cellMetadata": {
      "byteLimit": 2048000,
      "rowLimit": 10000
     },
     "inputWidgets": {},
     "nuid": "05defe12-aa1b-4e15-8e5a-eb9f39225fbe",
     "showTitle": false,
     "tableResultSettingsMap": {},
     "title": ""
    }
   },
   "outputs": [
    {
     "output_type": "stream",
     "name": "stdout",
     "output_type": "stream",
     "text": [
      "+---+\n|num|\n+---+\n|  1|\n|  2|\n|  3|\n+---+\n\n"
     ]
    }
   ],
   "source": [
    "df = spark.createDataFrame(data,['num'])\n",
    "df.show()"
   ]
  },
  {
   "cell_type": "code",
   "execution_count": 0,
   "metadata": {
    "application/vnd.databricks.v1+cell": {
     "cellMetadata": {
      "byteLimit": 2048000,
      "rowLimit": 10000
     },
     "inputWidgets": {},
     "nuid": "ec290912-24e8-423f-8804-cc694a644143",
     "showTitle": false,
     "tableResultSettingsMap": {},
     "title": ""
    }
   },
   "outputs": [],
   "source": [
    "class Person:\n",
    "    def __init__(self):\n",
    "        self.name=\"name\"\n",
    "        self.age = 20\n",
    "        self.job = \"student\"\n",
    "    def __init__(self,name,age,job):\n",
    "        self.name= name\n",
    "        self.age = age\n",
    "        self.job = job\n",
    "p1 = Person(\"foo\", 30, \"programmer\")\n",
    "p2 = Person(\"bar\", 10, \"student\")\n",
    "\n"
   ]
  },
  {
   "cell_type": "code",
   "execution_count": 0,
   "metadata": {
    "application/vnd.databricks.v1+cell": {
     "cellMetadata": {
      "byteLimit": 2048000,
      "rowLimit": 10000
     },
     "inputWidgets": {},
     "nuid": "6f1c5b40-ca7e-4043-ae6e-0da7f01c78d1",
     "showTitle": false,
     "tableResultSettingsMap": {},
     "title": ""
    }
   },
   "outputs": [
    {
     "output_type": "stream",
     "name": "stdout",
     "output_type": "stream",
     "text": [
      "+---+----------+----+\n|age|       job|name|\n+---+----------+----+\n| 30|programmer| foo|\n| 10|   student| bar|\n+---+----------+----+\n\n+---+---+----------+\n| _1| _2|        _3|\n+---+---+----------+\n|foo| 30|programmer|\n|bar| 10|   student|\n+---+---+----------+\n\n"
     ]
    }
   ],
   "source": [
    "t1 = (\"foo\", 30 , \"programmer\")\n",
    "t2 = (\"bar\", 10 , \"student\")\n",
    "spark.createDataFrame([p1,p2]).show(3)\n",
    "spark.createDataFrame([t1,t2]).show(3)"
   ]
  },
  {
   "cell_type": "code",
   "execution_count": 0,
   "metadata": {
    "application/vnd.databricks.v1+cell": {
     "cellMetadata": {
      "byteLimit": 2048000,
      "rowLimit": 10000
     },
     "inputWidgets": {},
     "nuid": "f6f608b8-3f03-487e-8a69-3b1e13cc62a2",
     "showTitle": false,
     "tableResultSettingsMap": {},
     "title": ""
    }
   },
   "outputs": [
    {
     "output_type": "stream",
     "name": "stdout",
     "output_type": "stream",
     "text": [
      "+----+---+----------+\n|name|age|       job|\n+----+---+----------+\n| foo|  7|programmer|\n| bar| 13|   student|\n+----+---+----------+\n\n"
     ]
    }
   ],
   "source": [
    "from pyspark.sql.types import StructType,StructField,StringType, IntegerType\n",
    "\n",
    "schema = StructType(\n",
    "    [StructField(\"name\", StringType(),nullable= True),\n",
    "    StructField(\"age\", IntegerType(),nullable= True),\n",
    "    StructField(\"job\", StringType(),nullable= True)]\n",
    ")\n",
    "\n",
    "rowRDD = sc.parallelize([Row(\"foo\", 7 , \"programmer\"), Row(\"bar\",13,\"student\")])\n",
    "spark.createDataFrame(rowRDD,schema).show()"
   ]
  },
  {
   "cell_type": "code",
   "execution_count": 0,
   "metadata": {
    "application/vnd.databricks.v1+cell": {
     "cellMetadata": {
      "byteLimit": 2048000,
      "rowLimit": 10000
     },
     "inputWidgets": {},
     "nuid": "630d7e75-6d60-4ab4-b1e8-037401758d20",
     "showTitle": false,
     "tableResultSettingsMap": {},
     "title": ""
    }
   },
   "outputs": [
    {
     "output_type": "stream",
     "name": "stdout",
     "output_type": "stream",
     "text": [
      "Out[13]: [<Row('foo', 7, 'programmer')>, <Row('bar', 13, 'student')>]"
     ]
    }
   ],
   "source": [
    "rowRDD.collect()"
   ]
  },
  {
   "cell_type": "code",
   "execution_count": 0,
   "metadata": {
    "application/vnd.databricks.v1+cell": {
     "cellMetadata": {
      "byteLimit": 2048000,
      "rowLimit": 10000
     },
     "inputWidgets": {},
     "nuid": "91621252-a182-40f2-b887-dbf4a8c618a7",
     "showTitle": false,
     "tableResultSettingsMap": {},
     "title": ""
    }
   },
   "outputs": [
    {
     "output_type": "stream",
     "name": "stdout",
     "output_type": "stream",
     "text": [
      "+-------------+\n|value        |\n+-------------+\n|id,name,value|\n|1,Name_1,1.5 |\n|2,Name_2,3.0 |\n|3,Name_3,4.5 |\n|4,Name_4,6.0 |\n|5,Name_5,7.5 |\n|6,Name_6,9.0 |\n|7,Name_7,10.5|\n|8,Name_8,12.0|\n|9,Name_9,13.5|\n+-------------+\nonly showing top 10 rows\n\n"
     ]
    }
   ],
   "source": [
    "df = spark.read.text(\"dbfs:/FileStore/sample_data.csv\")\n",
    "df.show(10,False) # we did not read header for column names"
   ]
  },
  {
   "cell_type": "code",
   "execution_count": 0,
   "metadata": {
    "application/vnd.databricks.v1+cell": {
     "cellMetadata": {
      "byteLimit": 2048000,
      "rowLimit": 10000
     },
     "inputWidgets": {},
     "nuid": "490c143e-76d6-4e51-83ec-3f1f35888d75",
     "showTitle": false,
     "tableResultSettingsMap": {},
     "title": ""
    }
   },
   "outputs": [
    {
     "output_type": "stream",
     "name": "stdout",
     "output_type": "stream",
     "text": [
      "+---+-------+-----+\n|id |name   |value|\n+---+-------+-----+\n|1  |Name_1 |1.5  |\n|2  |Name_2 |3.0  |\n|3  |Name_3 |4.5  |\n|4  |Name_4 |6.0  |\n|5  |Name_5 |7.5  |\n|6  |Name_6 |9.0  |\n|7  |Name_7 |10.5 |\n|8  |Name_8 |12.0 |\n|9  |Name_9 |13.5 |\n|10 |Name_10|15.0 |\n+---+-------+-----+\nonly showing top 10 rows\n\n"
     ]
    }
   ],
   "source": [
    "df = spark.read.option(\"sep\",\",\").option(\"header\", \"true\").csv(\"dbfs:/FileStore/sample_data.csv\")\n",
    "df.show(10,False)\n"
   ]
  },
  {
   "cell_type": "code",
   "execution_count": 0,
   "metadata": {
    "application/vnd.databricks.v1+cell": {
     "cellMetadata": {
      "byteLimit": 2048000,
      "rowLimit": 10000
     },
     "inputWidgets": {},
     "nuid": "3cbbc9bb-d0f8-42b3-95c6-04f08824bf86",
     "showTitle": false,
     "tableResultSettingsMap": {},
     "title": ""
    }
   },
   "outputs": [
    {
     "output_type": "stream",
     "name": "stdout",
     "output_type": "stream",
     "text": [
      "root\n |-- id: string (nullable = true)\n |-- name: string (nullable = true)\n |-- value: string (nullable = true)\n\n"
     ]
    }
   ],
   "source": [
    "## Dataframe Function\n",
    "df.printSchema()"
   ]
  },
  {
   "cell_type": "code",
   "execution_count": 0,
   "metadata": {
    "application/vnd.databricks.v1+cell": {
     "cellMetadata": {
      "byteLimit": 2048000,
      "rowLimit": 10000
     },
     "inputWidgets": {},
     "nuid": "e8091983-4d47-405d-87cf-adaa8181774e",
     "showTitle": false,
     "tableResultSettingsMap": {},
     "title": ""
    }
   },
   "outputs": [
    {
     "output_type": "stream",
     "name": "stdout",
     "output_type": "stream",
     "text": [
      "+---+-----+\n|id |value|\n+---+-----+\n|1  |1.5  |\n|2  |3.0  |\n|3  |4.5  |\n|4  |6.0  |\n|5  |7.5  |\n|6  |9.0  |\n|7  |10.5 |\n|8  |12.0 |\n|9  |13.5 |\n|10 |15.0 |\n+---+-----+\nonly showing top 10 rows\n\n"
     ]
    }
   ],
   "source": [
    "df.select(\"id\",\"value\").show(10,False)"
   ]
  },
  {
   "cell_type": "code",
   "execution_count": 0,
   "metadata": {
    "application/vnd.databricks.v1+cell": {
     "cellMetadata": {
      "byteLimit": 2048000,
      "rowLimit": 10000
     },
     "inputWidgets": {},
     "nuid": "e4bcb390-d50b-4619-b482-791aabf96cc5",
     "showTitle": false,
     "tableResultSettingsMap": {},
     "title": ""
    }
   },
   "outputs": [
    {
     "output_type": "stream",
     "name": "stdout",
     "output_type": "stream",
     "text": [
      "+---+-----+\n|id |value|\n+---+-----+\n|1  |1.5  |\n|2  |3.0  |\n|3  |4.5  |\n|4  |6.0  |\n|5  |7.5  |\n|6  |9.0  |\n|7  |10.5 |\n|8  |12.0 |\n|9  |13.5 |\n|10 |15.0 |\n+---+-----+\nonly showing top 10 rows\n\n"
     ]
    }
   ],
   "source": [
    "from pyspark.sql.functions import col\n",
    "c1= col('id')\n",
    "c2= col('value')\n",
    "\n",
    "df.select(c1,c2).show(10,False)"
   ]
  },
  {
   "cell_type": "code",
   "execution_count": 0,
   "metadata": {
    "application/vnd.databricks.v1+cell": {
     "cellMetadata": {
      "byteLimit": 2048000,
      "rowLimit": 10000
     },
     "inputWidgets": {},
     "nuid": "e19ba6a8-0027-4dd1-a6bc-ca013198cbfc",
     "showTitle": false,
     "tableResultSettingsMap": {},
     "title": ""
    }
   },
   "outputs": [
    {
     "output_type": "stream",
     "name": "stdout",
     "output_type": "stream",
     "text": [
      "Out[22]: ['id', 'name', 'value']"
     ]
    }
   ],
   "source": [
    "df.columns"
   ]
  },
  {
   "cell_type": "code",
   "execution_count": 0,
   "metadata": {
    "application/vnd.databricks.v1+cell": {
     "cellMetadata": {
      "byteLimit": 2048000,
      "rowLimit": 10000
     },
     "inputWidgets": {},
     "nuid": "2be23cb5-20a3-40f7-bf15-54ee540c8d63",
     "showTitle": false,
     "tableResultSettingsMap": {},
     "title": ""
    }
   },
   "outputs": [
    {
     "output_type": "stream",
     "name": "stdout",
     "output_type": "stream",
     "text": [
      "Out[24]: [('id', 'string'), ('name', 'string'), ('value', 'string')]"
     ]
    }
   ],
   "source": [
    "df.dtypes"
   ]
  },
  {
   "cell_type": "code",
   "execution_count": 0,
   "metadata": {
    "application/vnd.databricks.v1+cell": {
     "cellMetadata": {
      "byteLimit": 2048000,
      "rowLimit": 10000
     },
     "inputWidgets": {},
     "nuid": "81b33aae-7d6c-4183-972f-c845b4cd7f08",
     "showTitle": false,
     "tableResultSettingsMap": {},
     "title": ""
    }
   },
   "outputs": [
    {
     "output_type": "stream",
     "name": "stdout",
     "output_type": "stream",
     "text": [
      "Out[25]: <bound method DataFrame.first of DataFrame[id: string, name: string, value: string]>"
     ]
    }
   ],
   "source": [
    "df.head\n",
    "df.first"
   ]
  },
  {
   "cell_type": "code",
   "execution_count": 0,
   "metadata": {
    "application/vnd.databricks.v1+cell": {
     "cellMetadata": {
      "byteLimit": 2048000,
      "rowLimit": 10000
     },
     "inputWidgets": {},
     "nuid": "5ecafc15-050d-42df-a5ac-4dfa4c4d98db",
     "showTitle": false,
     "tableResultSettingsMap": {},
     "title": ""
    }
   },
   "outputs": [
    {
     "output_type": "stream",
     "name": "stdout",
     "output_type": "stream",
     "text": [
      "Out[27]: [Row(id='1', name='Name_1', value='1.5'),\n Row(id='2', name='Name_2', value='3.0')]"
     ]
    }
   ],
   "source": [
    "df.take(2) # take number of rows "
   ]
  },
  {
   "cell_type": "code",
   "execution_count": 0,
   "metadata": {
    "application/vnd.databricks.v1+cell": {
     "cellMetadata": {
      "byteLimit": 2048000,
      "rowLimit": 10000
     },
     "inputWidgets": {},
     "nuid": "0652c21d-3815-4506-a227-c449b75a4211",
     "showTitle": false,
     "tableResultSettingsMap": {},
     "title": ""
    }
   },
   "outputs": [
    {
     "output_type": "stream",
     "name": "stdout",
     "output_type": "stream",
     "text": [
      "Out[28]: [Row(id='1', name='Name_1', value='1.5'),\n Row(id='2', name='Name_2', value='3.0'),\n Row(id='3', name='Name_3', value='4.5'),\n Row(id='4', name='Name_4', value='6.0'),\n Row(id='5', name='Name_5', value='7.5'),\n Row(id='6', name='Name_6', value='9.0'),\n Row(id='7', name='Name_7', value='10.5'),\n Row(id='8', name='Name_8', value='12.0'),\n Row(id='9', name='Name_9', value='13.5'),\n Row(id='10', name='Name_10', value='15.0'),\n Row(id='11', name='Name_11', value='16.5'),\n Row(id='12', name='Name_12', value='18.0'),\n Row(id='13', name='Name_13', value='19.5'),\n Row(id='14', name='Name_14', value='21.0'),\n Row(id='15', name='Name_15', value='22.5'),\n Row(id='16', name='Name_16', value='24.0'),\n Row(id='17', name='Name_17', value='25.5'),\n Row(id='18', name='Name_18', value='27.0'),\n Row(id='19', name='Name_19', value='28.5'),\n Row(id='20', name='Name_20', value='30.0')]"
     ]
    }
   ],
   "source": [
    "df.collect()"
   ]
  },
  {
   "cell_type": "code",
   "execution_count": 0,
   "metadata": {
    "application/vnd.databricks.v1+cell": {
     "cellMetadata": {
      "byteLimit": 2048000,
      "rowLimit": 10000
     },
     "inputWidgets": {},
     "nuid": "ec9a1619-ac52-4ff4-99b2-040a3025b7cb",
     "showTitle": false,
     "tableResultSettingsMap": {},
     "title": ""
    }
   },
   "outputs": [
    {
     "output_type": "stream",
     "name": "stdout",
     "output_type": "stream",
     "text": [
      "Out[30]: DataFrame[id: string, name: string, value: string]"
     ]
    }
   ],
   "source": [
    "df.limit(10)"
   ]
  },
  {
   "cell_type": "code",
   "execution_count": 0,
   "metadata": {
    "application/vnd.databricks.v1+cell": {
     "cellMetadata": {
      "byteLimit": 2048000,
      "rowLimit": 10000
     },
     "inputWidgets": {},
     "nuid": "561c6602-5ecd-4f6e-98e6-71746f658708",
     "showTitle": false,
     "tableResultSettingsMap": {},
     "title": ""
    }
   },
   "outputs": [
    {
     "output_type": "stream",
     "name": "stdout",
     "output_type": "stream",
     "text": [
      "Out[31]: DataFrame[id: string, name: string, value: string]"
     ]
    }
   ],
   "source": [
    "df.limit(10)"
   ]
  },
  {
   "cell_type": "code",
   "execution_count": 0,
   "metadata": {
    "application/vnd.databricks.v1+cell": {
     "cellMetadata": {
      "byteLimit": 2048000,
      "rowLimit": 10000
     },
     "inputWidgets": {},
     "nuid": "bf8a8322-4a1b-42eb-ae75-c2a2a6e2b9c1",
     "showTitle": false,
     "tableResultSettingsMap": {},
     "title": ""
    }
   },
   "outputs": [
    {
     "output_type": "stream",
     "name": "stdout",
     "output_type": "stream",
     "text": [
      "+---+------+-----+\n| id|  name|value|\n+---+------+-----+\n|  1|Name_1|  1.5|\n|  2|Name_2|  3.0|\n|  3|Name_3|  4.5|\n|  4|Name_4|  6.0|\n|  5|Name_5|  7.5|\n+---+------+-----+\nonly showing top 5 rows\n\n"
     ]
    }
   ],
   "source": [
    "df.limit(10).show(5)"
   ]
  },
  {
   "cell_type": "code",
   "execution_count": 0,
   "metadata": {
    "application/vnd.databricks.v1+cell": {
     "cellMetadata": {
      "byteLimit": 2048000,
      "rowLimit": 10000
     },
     "inputWidgets": {},
     "nuid": "9f9b5d26-244c-41ff-81b4-ec301e9815f4",
     "showTitle": false,
     "tableResultSettingsMap": {},
     "title": ""
    }
   },
   "outputs": [
    {
     "output_type": "stream",
     "name": "stdout",
     "output_type": "stream",
     "text": [
      "Out[34]: 10"
     ]
    }
   ],
   "source": [
    "df.limit(10).count()"
   ]
  },
  {
   "cell_type": "code",
   "execution_count": 0,
   "metadata": {
    "application/vnd.databricks.v1+cell": {
     "cellMetadata": {
      "byteLimit": 2048000,
      "rowLimit": 10000
     },
     "inputWidgets": {},
     "nuid": "757ee15c-73cc-4fc6-951f-f523a308e3d8",
     "showTitle": false,
     "tableResultSettingsMap": {},
     "title": ""
    }
   },
   "outputs": [
    {
     "output_type": "stream",
     "name": "stdout",
     "output_type": "stream",
     "text": [
      "+---------+\n|upperName|\n+---------+\n|NAME_1   |\n|NAME_2   |\n|NAME_3   |\n+---------+\nonly showing top 3 rows\n\n"
     ]
    }
   ],
   "source": [
    "df.selectExpr('upper(name) as upperName').show(3,False)"
   ]
  },
  {
   "cell_type": "code",
   "execution_count": 0,
   "metadata": {
    "application/vnd.databricks.v1+cell": {
     "cellMetadata": {
      "byteLimit": 2048000,
      "rowLimit": 10000
     },
     "inputWidgets": {},
     "nuid": "feaa6f27-fbc2-4d3d-b58a-d834d7ae537c",
     "showTitle": false,
     "tableResultSettingsMap": {},
     "title": ""
    }
   },
   "outputs": [
    {
     "output_type": "stream",
     "name": "stdout",
     "output_type": "stream",
     "text": [
      "+---+------+-----+---------+\n|id |name  |value|newColumn|\n+---+------+-----+---------+\n|1  |Name_1|1.5  |Name_1   |\n|2  |Name_2|3.0  |Name_2   |\n|3  |Name_3|4.5  |Name_3   |\n+---+------+-----+---------+\nonly showing top 3 rows\n\n"
     ]
    }
   ],
   "source": [
    "import pyspark.sql.functions as F\n",
    "df = df.withColumn('newColumn', F.trim(F.col(\"name\")))\n",
    "df.show(3,False)"
   ]
  },
  {
   "cell_type": "code",
   "execution_count": 0,
   "metadata": {
    "application/vnd.databricks.v1+cell": {
     "cellMetadata": {
      "byteLimit": 2048000,
      "rowLimit": 10000
     },
     "inputWidgets": {},
     "nuid": "1656f0b2-3536-4604-b021-ed02ca50db2f",
     "showTitle": false,
     "tableResultSettingsMap": {},
     "title": ""
    }
   },
   "outputs": [
    {
     "output_type": "stream",
     "name": "stdout",
     "output_type": "stream",
     "text": [
      "+---+------+-----+\n|id |name  |value|\n+---+------+-----+\n|1  |Name_1|1.5  |\n|2  |Name_2|3.0  |\n|3  |Name_3|4.5  |\n+---+------+-----+\nonly showing top 3 rows\n\n"
     ]
    }
   ],
   "source": [
    "df = df.drop('newColumn')\n",
    "df.show(3,False)"
   ]
  },
  {
   "cell_type": "code",
   "execution_count": 0,
   "metadata": {
    "application/vnd.databricks.v1+cell": {
     "cellMetadata": {
      "byteLimit": 2048000,
      "rowLimit": 10000
     },
     "inputWidgets": {},
     "nuid": "2b7a559f-8560-420b-8648-75c49cd34191",
     "showTitle": false,
     "tableResultSettingsMap": {},
     "title": ""
    }
   },
   "outputs": [
    {
     "output_type": "stream",
     "name": "stdout",
     "output_type": "stream",
     "text": [
      "+---+------+-----+\n|id |name  |value|\n+---+------+-----+\n|7  |Name_7|10.5 |\n+---+------+-----+\n\n+---+------+-----+\n|id |name  |value|\n+---+------+-----+\n|7  |Name_7|10.5 |\n+---+------+-----+\n\n"
     ]
    }
   ],
   "source": [
    "df.filter('id == 7').show(3, False) # where and filter is same\n",
    "df.where('id == 7').show(3, False)"
   ]
  },
  {
   "cell_type": "code",
   "execution_count": 0,
   "metadata": {
    "application/vnd.databricks.v1+cell": {
     "cellMetadata": {
      "byteLimit": 2048000,
      "rowLimit": 10000
     },
     "inputWidgets": {},
     "nuid": "e596c646-eff1-41e1-b542-e9c34c294d9d",
     "showTitle": false,
     "tableResultSettingsMap": {},
     "title": ""
    }
   },
   "outputs": [
    {
     "output_type": "stream",
     "name": "stdout",
     "output_type": "stream",
     "text": [
      "+---+------+-----+\n|id |name  |value|\n+---+------+-----+\n|2  |Name_2|3.0  |\n+---+------+-----+\n\n+---+------+-----+\n|id |name  |value|\n+---+------+-----+\n|2  |Name_2|3.0  |\n+---+------+-----+\n\n"
     ]
    }
   ],
   "source": [
    "df.filter('value == 3.0').show(3, False)\n",
    "df.where('value == 3.0').show(3, False)"
   ]
  },
  {
   "cell_type": "code",
   "execution_count": 0,
   "metadata": {
    "application/vnd.databricks.v1+cell": {
     "cellMetadata": {
      "byteLimit": 2048000,
      "rowLimit": 10000
     },
     "inputWidgets": {},
     "nuid": "06f081b6-8f4b-4b42-b2f3-cbfe4d9e5d31",
     "showTitle": false,
     "tableResultSettingsMap": {},
     "title": ""
    }
   },
   "outputs": [
    {
     "output_type": "stream",
     "name": "stdout",
     "output_type": "stream",
     "text": [
      "+---+------+-----+\n|id |name  |value|\n+---+------+-----+\n|7  |Name_7|10.5 |\n+---+------+-----+\n\n"
     ]
    }
   ],
   "source": []
  },
  {
   "cell_type": "code",
   "execution_count": 0,
   "metadata": {
    "application/vnd.databricks.v1+cell": {
     "cellMetadata": {
      "byteLimit": 2048000,
      "rowLimit": 10000
     },
     "inputWidgets": {},
     "nuid": "4ea11434-f79d-4641-8089-0505ddcb7626",
     "showTitle": false,
     "tableResultSettingsMap": {},
     "title": ""
    }
   },
   "outputs": [
    {
     "output_type": "stream",
     "name": "stdout",
     "output_type": "stream",
     "text": [
      "+---+------+-----+\n| id|  name|value|\n+---+------+-----+\n|  1|Name_1|  1.5|\n|  7|Name_7| 10.5|\n|  8|Name_8| 12.0|\n+---+------+-----+\nonly showing top 3 rows\n\n"
     ]
    }
   ],
   "source": [
    "df.orderBy('value').show(3)"
   ]
  },
  {
   "cell_type": "code",
   "execution_count": 0,
   "metadata": {
    "application/vnd.databricks.v1+cell": {
     "cellMetadata": {
      "byteLimit": 2048000,
      "rowLimit": 10000
     },
     "inputWidgets": {},
     "nuid": "e621a315-d1b3-4c01-888e-e33175d43758",
     "showTitle": false,
     "tableResultSettingsMap": {},
     "title": ""
    }
   },
   "outputs": [
    {
     "output_type": "stream",
     "name": "stdout",
     "output_type": "stream",
     "text": [
      "+---+-------+-----+\n| id|   name|value|\n+---+-------+-----+\n|  1| Name_1|  1.5|\n|  7| Name_7| 10.5|\n|  8| Name_8| 12.0|\n|  9| Name_9| 13.5|\n| 10|Name_10| 15.0|\n| 11|Name_11| 16.5|\n| 12|Name_12| 18.0|\n| 13|Name_13| 19.5|\n| 14|Name_14| 21.0|\n| 15|Name_15| 22.5|\n+---+-------+-----+\nonly showing top 10 rows\n\n"
     ]
    }
   ],
   "source": [
    "df.sort(col('value')).show(10)"
   ]
  },
  {
   "cell_type": "code",
   "execution_count": 0,
   "metadata": {
    "application/vnd.databricks.v1+cell": {
     "cellMetadata": {
      "byteLimit": 2048000,
      "rowLimit": 10000
     },
     "inputWidgets": {},
     "nuid": "bf634926-93e7-4c82-84bd-8e45d6ce4b04",
     "showTitle": false,
     "tableResultSettingsMap": {},
     "title": ""
    }
   },
   "outputs": [
    {
     "output_type": "stream",
     "name": "stdout",
     "output_type": "stream",
     "text": [
      "+---------+\n|cc       |\n+---------+\n|[Name, 1]|\n|[Name, 2]|\n|[Name, 3]|\n|[Name, 4]|\n|[Name, 5]|\n+---------+\nonly showing top 5 rows\n\n"
     ]
    }
   ],
   "source": [
    "cc= F.split(F.col('name'), '[_]', 2)\n",
    "df1 = df.select(cc.alias('cc'))\n",
    "df1.show(5,False)"
   ]
  },
  {
   "cell_type": "code",
   "execution_count": 0,
   "metadata": {
    "application/vnd.databricks.v1+cell": {
     "cellMetadata": {
      "byteLimit": 2048000,
      "rowLimit": 10000
     },
     "inputWidgets": {},
     "nuid": "0ee98da0-7ed7-4ded-b00b-4a2bb0862765",
     "showTitle": false,
     "tableResultSettingsMap": {},
     "title": ""
    }
   },
   "outputs": [
    {
     "output_type": "stream",
     "name": "stdout",
     "output_type": "stream",
     "text": [
      "+-----+-----+\n|cc[0]|cc[1]|\n+-----+-----+\n|Name |1    |\n|Name |2    |\n|Name |3    |\n|Name |4    |\n|Name |5    |\n+-----+-----+\nonly showing top 5 rows\n\n"
     ]
    }
   ],
   "source": [
    "cols = [F.expr(f\"cc[{idx}]\") for idx in range(0,2)]\n",
    "df2 = df1.select(cols)\n",
    "df2.show(5,False)"
   ]
  },
  {
   "cell_type": "code",
   "execution_count": 0,
   "metadata": {
    "application/vnd.databricks.v1+cell": {
     "cellMetadata": {
      "byteLimit": 2048000,
      "rowLimit": 10000
     },
     "inputWidgets": {},
     "nuid": "7d3692b4-e2e8-4f22-abea-f57076900049",
     "showTitle": false,
     "tableResultSettingsMap": {},
     "title": ""
    }
   },
   "outputs": [
    {
     "output_type": "stream",
     "name": "stdout",
     "output_type": "stream",
     "text": [
      "+-----+-----+-----+\n|cc[0]|cc[1]|c3   |\n+-----+-----+-----+\n|Name |1    |Korea|\n|Name |2    |Korea|\n|Name |3    |Korea|\n|Name |4    |Korea|\n|Name |5    |Korea|\n+-----+-----+-----+\nonly showing top 5 rows\n\n"
     ]
    }
   ],
   "source": [
    "df3 = df2.withColumn(\"c3\", F.lit(\"Korea\"))\n",
    "df3.show(5,False)\n"
   ]
  },
  {
   "cell_type": "code",
   "execution_count": 0,
   "metadata": {
    "application/vnd.databricks.v1+cell": {
     "cellMetadata": {
      "byteLimit": 2048000,
      "rowLimit": 10000
     },
     "inputWidgets": {},
     "nuid": "e569e74e-f722-4038-8931-a15085f194c5",
     "showTitle": false,
     "tableResultSettingsMap": {},
     "title": ""
    }
   },
   "outputs": [
    {
     "output_type": "stream",
     "name": "stdout",
     "output_type": "stream",
     "text": [
      "+----+\n|col |\n+----+\n|Name|\n|1   |\n|Name|\n|2   |\n|Name|\n|3   |\n|Name|\n|4   |\n|Name|\n|5   |\n+----+\nonly showing top 10 rows\n\n"
     ]
    }
   ],
   "source": [
    "df4 = df1.select(F.explode(F.col('cc')))\n",
    "df4.show(10,False)"
   ]
  },
  {
   "cell_type": "code",
   "execution_count": 0,
   "metadata": {
    "application/vnd.databricks.v1+cell": {
     "cellMetadata": {},
     "inputWidgets": {},
     "nuid": "bb21a1ab-dc7d-4b30-98ed-ab3991757234",
     "showTitle": false,
     "tableResultSettingsMap": {},
     "title": ""
    }
   },
   "outputs": [],
   "source": []
  }
 ],
 "metadata": {
  "application/vnd.databricks.v1+notebook": {
   "computePreferences": null,
   "dashboards": [],
   "environmentMetadata": {
    "base_environment": "",
    "client": "1"
   },
   "language": "python",
   "notebookMetadata": {
    "pythonIndentUnit": 4
   },
   "notebookName": "DataFrame Hands-on",
   "widgets": {}
  }
 },
 "nbformat": 4,
 "nbformat_minor": 0
}
