{
 "cells": [
  {
   "cell_type": "code",
   "execution_count": 0,
   "metadata": {
    "application/vnd.databricks.v1+cell": {
     "cellMetadata": {
      "byteLimit": 2048000,
      "rowLimit": 10000
     },
     "inputWidgets": {},
     "nuid": "08190d1e-6714-491c-bdf5-434bf2b11f16",
     "showTitle": false,
     "tableResultSettingsMap": {},
     "title": ""
    }
   },
   "outputs": [],
   "source": [
    "text = sc.parallelize(\"text is in spark notebook\")\n"
   ]
  },
  {
   "cell_type": "code",
   "execution_count": 0,
   "metadata": {
    "application/vnd.databricks.v1+cell": {
     "cellMetadata": {
      "byteLimit": 2048000,
      "rowLimit": 10000
     },
     "inputWidgets": {},
     "nuid": "7df8070b-2184-4849-94df-15cce951723f",
     "showTitle": false,
     "tableResultSettingsMap": {},
     "title": ""
    }
   },
   "outputs": [
    {
     "output_type": "stream",
     "name": "stdout",
     "output_type": "stream",
     "text": [
      "ParallelCollectionRDD[1] at readRDDFromInputStream at PythonRDD.scala:435"
     ]
    }
   ],
   "source": [
    "display(text)"
   ]
  },
  {
   "cell_type": "code",
   "execution_count": 0,
   "metadata": {
    "application/vnd.databricks.v1+cell": {
     "cellMetadata": {
      "byteLimit": 2048000,
      "rowLimit": 10000
     },
     "inputWidgets": {},
     "nuid": "5b853321-2164-4ec2-ac7b-c73a02c84126",
     "showTitle": false,
     "tableResultSettingsMap": {},
     "title": ""
    }
   },
   "outputs": [
    {
     "output_type": "stream",
     "name": "stdout",
     "output_type": "stream",
     "text": [
      "Out[6]: ['t', 'e', 'x', 't', ' ', 'i', 's', ' ', 'i', 'n']"
     ]
    }
   ],
   "source": [
    "text.take(10)"
   ]
  },
  {
   "cell_type": "code",
   "execution_count": 0,
   "metadata": {
    "application/vnd.databricks.v1+cell": {
     "cellMetadata": {
      "byteLimit": 2048000,
      "rowLimit": 10000
     },
     "inputWidgets": {},
     "nuid": "34b04101-c39d-4b77-806d-a8ba68c47cc0",
     "showTitle": false,
     "tableResultSettingsMap": {},
     "title": ""
    }
   },
   "outputs": [],
   "source": [
    "from pyspark import SparkConf, SparkContext\n"
   ]
  },
  {
   "cell_type": "code",
   "execution_count": 0,
   "metadata": {
    "application/vnd.databricks.v1+cell": {
     "cellMetadata": {
      "byteLimit": 2048000,
      "rowLimit": 10000
     },
     "inputWidgets": {},
     "nuid": "58e940ed-27e1-454b-ac5d-2421cbb1173d",
     "showTitle": false,
     "tableResultSettingsMap": {},
     "title": ""
    }
   },
   "outputs": [],
   "source": [
    "spark = SparkContext"
   ]
  },
  {
   "cell_type": "code",
   "execution_count": 0,
   "metadata": {
    "application/vnd.databricks.v1+cell": {
     "cellMetadata": {
      "byteLimit": 2048000,
      "rowLimit": 10000
     },
     "inputWidgets": {},
     "nuid": "28481b33-6694-433d-a083-a7e6e8252af5",
     "showTitle": false,
     "tableResultSettingsMap": {},
     "title": ""
    }
   },
   "outputs": [
    {
     "output_type": "display_data",
     "data": {
      "text/html": [
       "\n",
       "        <div>\n",
       "            <p><b>SparkContext</b></p>\n",
       "\n",
       "            <p><a href=\"/?o=1042143787320744#setting/sparkui/1213-111256-i1om328c/driver-4945957635931627795\">Spark UI</a></p>\n",
       "\n",
       "            <dl>\n",
       "              <dt>Version</dt>\n",
       "                <dd><code>v3.3.2</code></dd>\n",
       "              <dt>Master</dt>\n",
       "                <dd><code>local[8]</code></dd>\n",
       "              <dt>AppName</dt>\n",
       "                <dd><code>Databricks Shell</code></dd>\n",
       "            </dl>\n",
       "        </div>\n",
       "        "
      ]
     },
     "metadata": {
      "application/vnd.databricks.v1+output": {
       "addedWidgets": {},
       "arguments": {},
       "data": "\n        <div>\n            <p><b>SparkContext</b></p>\n\n            <p><a href=\"/?o=1042143787320744#setting/sparkui/1213-111256-i1om328c/driver-4945957635931627795\">Spark UI</a></p>\n\n            <dl>\n              <dt>Version</dt>\n                <dd><code>v3.3.2</code></dd>\n              <dt>Master</dt>\n                <dd><code>local[8]</code></dd>\n              <dt>AppName</dt>\n                <dd><code>Databricks Shell</code></dd>\n            </dl>\n        </div>\n        ",
       "datasetInfos": [],
       "metadata": {},
       "removedWidgets": [],
       "textData": null,
       "type": "htmlSandbox"
      }
     },
     "output_type": "display_data"
    }
   ],
   "source": [
    "sc"
   ]
  },
  {
   "cell_type": "code",
   "execution_count": 0,
   "metadata": {
    "application/vnd.databricks.v1+cell": {
     "cellMetadata": {
      "byteLimit": 2048000,
      "rowLimit": 10000
     },
     "inputWidgets": {},
     "nuid": "18860048-bcef-40ee-be9a-5ae8cf2064da",
     "showTitle": false,
     "tableResultSettingsMap": {},
     "title": ""
    }
   },
   "outputs": [
    {
     "output_type": "stream",
     "name": "stdout",
     "output_type": "stream",
     "text": [
      "Hello, root\n"
     ]
    }
   ],
   "source": [
    "from pyspark.sql import SparkSession\n",
    "spark = ( #context는 하나만 실행 가능하여 불가능 하지만 세션은 context를 감싸는 객체라 가능.\n",
    "    SparkSession.builder\n",
    "    .master(\"local\")\n",
    "    .appName(\"spark-session-test\")\n",
    "    .getOrCreate()\n",
    ")\n",
    "print(f\"Hello, {spark.sparkContext.sparkUser()}\")"
   ]
  },
  {
   "cell_type": "code",
   "execution_count": 0,
   "metadata": {
    "application/vnd.databricks.v1+cell": {
     "cellMetadata": {
      "byteLimit": 2048000,
      "rowLimit": 10000
     },
     "inputWidgets": {},
     "nuid": "7650451b-5eb5-41f3-a407-a8c6391849cd",
     "showTitle": false,
     "tableResultSettingsMap": {},
     "title": ""
    }
   },
   "outputs": [
    {
     "output_type": "stream",
     "name": "stdout",
     "output_type": "stream",
     "text": [
      "root\n |-- Industry: string (nullable = true)\n\n"
     ]
    }
   ],
   "source": [
    "df = spark.read.option('header' , 'True').csv(\"dbfs:/FileStore/industry.csv\")\n",
    "df.printSchema()"
   ]
  },
  {
   "cell_type": "code",
   "execution_count": 0,
   "metadata": {
    "application/vnd.databricks.v1+cell": {
     "cellMetadata": {
      "byteLimit": 2048000,
      "rowLimit": 10000
     },
     "inputWidgets": {},
     "nuid": "ff5e6856-b8e9-4bd7-b42f-bf8a3154a6be",
     "showTitle": false,
     "tableResultSettingsMap": {},
     "title": ""
    }
   },
   "outputs": [
    {
     "output_type": "stream",
     "name": "stdout",
     "output_type": "stream",
     "text": [
      "+-----------------------------+\n|Industry                     |\n+-----------------------------+\n|Accounting/Finance           |\n|Advertising/Public Relations |\n|Aerospace/Aviation           |\n|Arts/Entertainment/Publishing|\n|Automotive                   |\n+-----------------------------+\nonly showing top 5 rows\n\n"
     ]
    }
   ],
   "source": [
    "df.show( 5 ,False)#5개 조회, truncate -> false"
   ]
  },
  {
   "cell_type": "code",
   "execution_count": 0,
   "metadata": {
    "application/vnd.databricks.v1+cell": {
     "cellMetadata": {
      "byteLimit": 2048000,
      "rowLimit": 10000
     },
     "inputWidgets": {},
     "nuid": "d45a7180-ff09-405a-9243-4facb917c862",
     "showTitle": false,
     "tableResultSettingsMap": {},
     "title": ""
    }
   },
   "outputs": [
    {
     "output_type": "display_data",
     "data": {
      "text/html": [
       "<style scoped>\n",
       "  .table-result-container {\n",
       "    max-height: 300px;\n",
       "    overflow: auto;\n",
       "  }\n",
       "  table, th, td {\n",
       "    border: 1px solid black;\n",
       "    border-collapse: collapse;\n",
       "  }\n",
       "  th, td {\n",
       "    padding: 5px;\n",
       "  }\n",
       "  th {\n",
       "    text-align: left;\n",
       "  }\n",
       "</style><div class='table-result-container'><table class='table-result'><thead style='background-color: white'><tr><th>Industry</th></tr></thead><tbody><tr><td>Accounting/Finance</td></tr><tr><td>Advertising/Public Relations</td></tr><tr><td>Aerospace/Aviation</td></tr><tr><td>Arts/Entertainment/Publishing</td></tr><tr><td>Automotive</td></tr><tr><td>Banking/Mortgage</td></tr><tr><td>Business Development</td></tr><tr><td>Business Opportunity</td></tr><tr><td>Clerical/Administrative</td></tr><tr><td>Construction/Facilities</td></tr><tr><td>Consumer Goods</td></tr><tr><td>Customer Service</td></tr><tr><td>Education/Training</td></tr><tr><td>Energy/Utilities</td></tr><tr><td>Engineering</td></tr><tr><td>Government/Military</td></tr><tr><td>Green</td></tr><tr><td>Healthcare</td></tr><tr><td>Hospitality/Travel</td></tr><tr><td>Human Resources</td></tr><tr><td>Installation/Maintenance</td></tr><tr><td>Insurance</td></tr><tr><td>Internet</td></tr><tr><td>Job Search Aids</td></tr><tr><td>Law Enforcement/Security</td></tr><tr><td>Legal</td></tr><tr><td>Management/Executive</td></tr><tr><td>Manufacturing/Operations</td></tr><tr><td>Marketing</td></tr><tr><td>Non-Profit/Volunteer</td></tr><tr><td>Pharmaceutical/Biotech</td></tr><tr><td>Professional Services</td></tr><tr><td>QA/Quality Control</td></tr><tr><td>Real Estate</td></tr><tr><td>Restaurant/Food Service</td></tr><tr><td>Retail</td></tr><tr><td>Sales</td></tr><tr><td>Science/Research</td></tr><tr><td>Skilled Labor</td></tr><tr><td>Technology</td></tr><tr><td>Telecommunications</td></tr><tr><td>Transportation/Logistics</td></tr><tr><td>Other</td></tr></tbody></table></div>"
      ]
     },
     "metadata": {
      "application/vnd.databricks.v1+output": {
       "addedWidgets": {},
       "aggData": [],
       "aggError": "",
       "aggOverflow": false,
       "aggSchema": [],
       "aggSeriesLimitReached": false,
       "aggType": "",
       "arguments": {},
       "columnCustomDisplayInfos": {},
       "data": [
        [
         "Accounting/Finance"
        ],
        [
         "Advertising/Public Relations"
        ],
        [
         "Aerospace/Aviation"
        ],
        [
         "Arts/Entertainment/Publishing"
        ],
        [
         "Automotive"
        ],
        [
         "Banking/Mortgage"
        ],
        [
         "Business Development"
        ],
        [
         "Business Opportunity"
        ],
        [
         "Clerical/Administrative"
        ],
        [
         "Construction/Facilities"
        ],
        [
         "Consumer Goods"
        ],
        [
         "Customer Service"
        ],
        [
         "Education/Training"
        ],
        [
         "Energy/Utilities"
        ],
        [
         "Engineering"
        ],
        [
         "Government/Military"
        ],
        [
         "Green"
        ],
        [
         "Healthcare"
        ],
        [
         "Hospitality/Travel"
        ],
        [
         "Human Resources"
        ],
        [
         "Installation/Maintenance"
        ],
        [
         "Insurance"
        ],
        [
         "Internet"
        ],
        [
         "Job Search Aids"
        ],
        [
         "Law Enforcement/Security"
        ],
        [
         "Legal"
        ],
        [
         "Management/Executive"
        ],
        [
         "Manufacturing/Operations"
        ],
        [
         "Marketing"
        ],
        [
         "Non-Profit/Volunteer"
        ],
        [
         "Pharmaceutical/Biotech"
        ],
        [
         "Professional Services"
        ],
        [
         "QA/Quality Control"
        ],
        [
         "Real Estate"
        ],
        [
         "Restaurant/Food Service"
        ],
        [
         "Retail"
        ],
        [
         "Sales"
        ],
        [
         "Science/Research"
        ],
        [
         "Skilled Labor"
        ],
        [
         "Technology"
        ],
        [
         "Telecommunications"
        ],
        [
         "Transportation/Logistics"
        ],
        [
         "Other"
        ]
       ],
       "datasetInfos": [],
       "dbfsResultPath": null,
       "isJsonSchema": true,
       "metadata": {},
       "overflow": false,
       "plotOptions": {
        "customPlotOptions": {},
        "displayType": "table",
        "pivotAggregation": null,
        "pivotColumns": null,
        "xColumns": null,
        "yColumns": null
       },
       "removedWidgets": [],
       "schema": [
        {
         "metadata": "{}",
         "name": "Industry",
         "type": "\"string\""
        }
       ],
       "type": "table"
      }
     },
     "output_type": "display_data"
    }
   ],
   "source": [
    "display(df)"
   ]
  },
  {
   "cell_type": "code",
   "execution_count": 0,
   "metadata": {
    "application/vnd.databricks.v1+cell": {
     "cellMetadata": {
      "byteLimit": 2048000,
      "rowLimit": 10000
     },
     "inputWidgets": {},
     "nuid": "22508160-6d80-449a-be8d-8fefe0adcefe",
     "showTitle": false,
     "tableResultSettingsMap": {},
     "title": ""
    }
   },
   "outputs": [],
   "source": [
    "# Write\n",
    "import pyspark.sql.functions as F\n",
    "\n",
    "df = df.where(F.col('Industry') > 'A') # 원래 데이터를 제공 받아야 하는데 못받음.. 인터넷으로 찾아 봣는데 귀찮아서 컬럼 하나만 있는거 다운받음.\n",
    "df.write.mode('overwrite').csv(\"dbfs:/FileStore/output.csv\")"
   ]
  },
  {
   "cell_type": "code",
   "execution_count": 0,
   "metadata": {
    "application/vnd.databricks.v1+cell": {
     "cellMetadata": {
      "byteLimit": 2048000,
      "rowLimit": 10000
     },
     "inputWidgets": {},
     "nuid": "17cf5781-1041-4a38-b664-95b939c2ab8d",
     "showTitle": false,
     "tableResultSettingsMap": {},
     "title": ""
    }
   },
   "outputs": [
    {
     "output_type": "stream",
     "name": "stdout",
     "output_type": "stream",
     "text": [
      "Out[35]: 0"
     ]
    }
   ],
   "source": [
    "df.count()"
   ]
  },
  {
   "cell_type": "code",
   "execution_count": 0,
   "metadata": {
    "application/vnd.databricks.v1+cell": {
     "cellMetadata": {},
     "inputWidgets": {},
     "nuid": "1b792fb1-cfa4-42cb-95d1-8e82b9c4bd81",
     "showTitle": false,
     "tableResultSettingsMap": {},
     "title": ""
    }
   },
   "outputs": [],
   "source": []
  }
 ],
 "metadata": {
  "application/vnd.databricks.v1+notebook": {
   "computePreferences": null,
   "dashboards": [],
   "environmentMetadata": {
    "base_environment": "",
    "client": "1"
   },
   "language": "python",
   "notebookMetadata": {
    "pythonIndentUnit": 4
   },
   "notebookName": "Intro pyspark",
   "widgets": {}
  }
 },
 "nbformat": 4,
 "nbformat_minor": 0
}
