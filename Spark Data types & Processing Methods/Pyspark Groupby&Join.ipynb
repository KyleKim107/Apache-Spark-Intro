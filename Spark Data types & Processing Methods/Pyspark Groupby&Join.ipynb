{
 "cells": [
  {
   "cell_type": "code",
   "execution_count": 0,
   "metadata": {
    "application/vnd.databricks.v1+cell": {
     "cellMetadata": {
      "byteLimit": 2048000,
      "rowLimit": 10000
     },
     "inputWidgets": {},
     "nuid": "ba2e4d30-2ad4-4616-8fa1-60895ed644ef",
     "showTitle": false,
     "tableResultSettingsMap": {},
     "title": ""
    }
   },
   "outputs": [],
   "source": [
    "import pyspark.sql.functions as F\n",
    "df = spark.read.options(header = 'True', inferSchema='True', delimiter = ',').csv('dbfs:/FileStore/movies.csv')"
   ]
  },
  {
   "cell_type": "code",
   "execution_count": 0,
   "metadata": {
    "application/vnd.databricks.v1+cell": {
     "cellMetadata": {
      "byteLimit": 2048000,
      "rowLimit": 10000
     },
     "inputWidgets": {},
     "nuid": "055844ba-72ab-4e45-bebd-54b042dffdcd",
     "showTitle": false,
     "tableResultSettingsMap": {},
     "title": ""
    }
   },
   "outputs": [
    {
     "output_type": "stream",
     "name": "stdout",
     "output_type": "stream",
     "text": [
      "root\n |-- movieId: integer (nullable = true)\n |-- title: string (nullable = true)\n |-- genres: string (nullable = true)\n\n"
     ]
    }
   ],
   "source": [
    "df.printSchema()"
   ]
  },
  {
   "cell_type": "code",
   "execution_count": 0,
   "metadata": {
    "application/vnd.databricks.v1+cell": {
     "cellMetadata": {
      "byteLimit": 2048000,
      "rowLimit": 10000
     },
     "inputWidgets": {},
     "nuid": "905ef598-9108-4cd4-b51b-64b89db8d3d7",
     "showTitle": false,
     "tableResultSettingsMap": {},
     "title": ""
    }
   },
   "outputs": [
    {
     "output_type": "stream",
     "name": "stdout",
     "output_type": "stream",
     "text": [
      "+-------+----------------------------------+-------------------------------------------+\n|movieId|title                             |genres                                     |\n+-------+----------------------------------+-------------------------------------------+\n|2      |Toy Story (1995)                  |Adventure|Animation|Children|Comedy|Fantasy|\n|3      |Jumanji (1995)                    |Adventure|Children|Fantasy                 |\n|4      |Grumpier Old Men (1995)           |Comedy|Romance                             |\n|5      |Waiting to Exhale (1995)          |Comedy|Drama|Romance                       |\n|6      |Father of the Bride Part II (1995)|Comedy                                     |\n+-------+----------------------------------+-------------------------------------------+\nonly showing top 5 rows\n\n"
     ]
    }
   ],
   "source": [
    "plusone_udf = F.udf(lambda v: v + 1)\n",
    "df.withColumn(\"movieId\", plusone_udf(F.col(\"movieId\"))).show(5, False)\n"
   ]
  },
  {
   "cell_type": "code",
   "execution_count": 0,
   "metadata": {
    "application/vnd.databricks.v1+cell": {
     "cellMetadata": {
      "byteLimit": 2048000,
      "rowLimit": 10000
     },
     "inputWidgets": {},
     "nuid": "d9592b84-07a9-4f78-a521-1bd02ff85d20",
     "showTitle": false,
     "tableResultSettingsMap": {},
     "title": ""
    }
   },
   "outputs": [
    {
     "output_type": "stream",
     "name": "stdout",
     "output_type": "stream",
     "text": [
      "+-------+----------------------------------+-------------------------------------------+\n|movieId|title                             |genres                                     |\n+-------+----------------------------------+-------------------------------------------+\n|1      |Toy Story (1995)                  |ADVENTURE|ANIMATION|CHILDREN|COMEDY|FANTASY|\n|2      |Jumanji (1995)                    |ADVENTURE|CHILDREN|FANTASY                 |\n|3      |Grumpier Old Men (1995)           |COMEDY|ROMANCE                             |\n|4      |Waiting to Exhale (1995)          |COMEDY|DRAMA|ROMANCE                       |\n|5      |Father of the Bride Part II (1995)|COMEDY                                     |\n+-------+----------------------------------+-------------------------------------------+\nonly showing top 5 rows\n\n"
     ]
    }
   ],
   "source": [
    "upper_udf = F.udf(lambda v: v.upper())\n",
    "df.withColumn(\"genres\", upper_udf(F.col(\"genres\"))).show(5, False)\n"
   ]
  },
  {
   "cell_type": "markdown",
   "metadata": {
    "application/vnd.databricks.v1+cell": {
     "cellMetadata": {},
     "inputWidgets": {},
     "nuid": "c2774488-b5b6-4413-a4a8-33f73c0e6e67",
     "showTitle": false,
     "tableResultSettingsMap": {},
     "title": ""
    }
   },
   "source": [
    "# Groupby and Aggregation"
   ]
  },
  {
   "cell_type": "code",
   "execution_count": 0,
   "metadata": {
    "application/vnd.databricks.v1+cell": {
     "cellMetadata": {
      "byteLimit": 2048000,
      "rowLimit": 10000
     },
     "inputWidgets": {},
     "nuid": "8bf65d67-8281-4cd7-947b-c888741980de",
     "showTitle": false,
     "tableResultSettingsMap": {},
     "title": ""
    }
   },
   "outputs": [
    {
     "output_type": "stream",
     "name": "stdout",
     "output_type": "stream",
     "text": [
      "+-------+--------------------+--------------------+\n|movieId|               title|              genres|\n+-------+--------------------+--------------------+\n|      1|    Toy Story (1995)|Adventure|Animati...|\n|      2|      Jumanji (1995)|Adventure|Childre...|\n|      3|Grumpier Old Men ...|      Comedy|Romance|\n|      4|Waiting to Exhale...|Comedy|Drama|Romance|\n|      5|Father of the Bri...|              Comedy|\n|      6|         Heat (1995)|Action|Crime|Thri...|\n|      7|      Sabrina (1995)|      Comedy|Romance|\n|      8| Tom and Huck (1995)|  Adventure|Children|\n|      9| Sudden Death (1995)|              Action|\n|     10|    GoldenEye (1995)|Action|Adventure|...|\n+-------+--------------------+--------------------+\nonly showing top 10 rows\n\n"
     ]
    }
   ],
   "source": [
    "df.show(10)"
   ]
  },
  {
   "cell_type": "code",
   "execution_count": 0,
   "metadata": {
    "application/vnd.databricks.v1+cell": {
     "cellMetadata": {
      "byteLimit": 2048000,
      "rowLimit": 10000
     },
     "inputWidgets": {},
     "nuid": "2067022c-9d5c-481e-adb0-e016a1c5087d",
     "showTitle": false,
     "tableResultSettingsMap": {},
     "title": ""
    }
   },
   "outputs": [
    {
     "output_type": "stream",
     "name": "stdout",
     "output_type": "stream",
     "text": [
      "+-------+-----------------------+---------+\n|movieId|title                  |genres   |\n+-------+-----------------------+---------+\n|1      |Toy Story (1995)       |Adventure|\n|1      |Toy Story (1995)       |Animation|\n|1      |Toy Story (1995)       |Children |\n|1      |Toy Story (1995)       |Comedy   |\n|1      |Toy Story (1995)       |Fantasy  |\n|2      |Jumanji (1995)         |Adventure|\n|2      |Jumanji (1995)         |Children |\n|2      |Jumanji (1995)         |Fantasy  |\n|3      |Grumpier Old Men (1995)|Comedy   |\n|3      |Grumpier Old Men (1995)|Romance  |\n+-------+-----------------------+---------+\nonly showing top 10 rows\n\n"
     ]
    }
   ],
   "source": [
    "import pyspark.sql.functions as F\n",
    "df = df.select(df.movieId, df.title, F.explode(F.split(F.col('genres'), '[|]', -1)).alias('genres'))\n",
    "# insert one genre per row but same title\n",
    "df.show(10, False)"
   ]
  },
  {
   "cell_type": "code",
   "execution_count": 0,
   "metadata": {
    "application/vnd.databricks.v1+cell": {
     "cellMetadata": {
      "byteLimit": 2048000,
      "rowLimit": 10000
     },
     "inputWidgets": {},
     "nuid": "aa581e04-f260-4da9-b367-1f86562f5e8a",
     "showTitle": false,
     "tableResultSettingsMap": {},
     "title": ""
    }
   },
   "outputs": [
    {
     "output_type": "stream",
     "name": "stdout",
     "output_type": "stream",
     "text": [
      "+--------+------------+\n|genres  |sum(movieId)|\n+--------+------------+\n|Crime   |46970315    |\n|Romance |49276621    |\n|Thriller|79085328    |\n+--------+------------+\nonly showing top 3 rows\n\n"
     ]
    }
   ],
   "source": [
    "df.groupBy('genres').agg(F.sum(F.col('movieId'))).show(3, False)"
   ]
  },
  {
   "cell_type": "code",
   "execution_count": 0,
   "metadata": {
    "application/vnd.databricks.v1+cell": {
     "cellMetadata": {
      "byteLimit": 2048000,
      "rowLimit": 10000
     },
     "inputWidgets": {},
     "nuid": "522c78c9-5b92-47cd-adc3-aa38acefc5a7",
     "showTitle": false,
     "tableResultSettingsMap": {},
     "title": ""
    }
   },
   "outputs": [
    {
     "output_type": "stream",
     "name": "stdout",
     "output_type": "stream",
     "text": [
      "+--------+------------------+\n|genres  |avg               |\n+--------+------------------+\n|Crime   |39174.57464553795 |\n|Romance |30875.07581453634 |\n|Thriller|41755.717001055964|\n+--------+------------------+\nonly showing top 3 rows\n\n"
     ]
    }
   ],
   "source": [
    "df.groupBy('genres').agg(F.avg(F.col('movieId')).alias('avg')).show(3, False)"
   ]
  },
  {
   "cell_type": "code",
   "execution_count": 0,
   "metadata": {
    "application/vnd.databricks.v1+cell": {
     "cellMetadata": {
      "byteLimit": 2048000,
      "rowLimit": 10000
     },
     "inputWidgets": {},
     "nuid": "3725abfd-5fbe-416f-9b20-108e811d7eb3",
     "showTitle": false,
     "tableResultSettingsMap": {},
     "title": ""
    }
   },
   "outputs": [
    {
     "output_type": "stream",
     "name": "stdout",
     "output_type": "stream",
     "text": [
      "+--------+-----+\n|genres  |count|\n+--------+-----+\n|Drama   |4361 |\n|Comedy  |3756 |\n|Thriller|1894 |\n|Action  |1828 |\n|Romance |1596 |\n+--------+-----+\nonly showing top 5 rows\n\n"
     ]
    }
   ],
   "source": [
    "df.groupBy('genres').count().sort(F.desc(F.col('count'))).show(5, False)"
   ]
  },
  {
   "cell_type": "code",
   "execution_count": 0,
   "metadata": {
    "application/vnd.databricks.v1+cell": {
     "cellMetadata": {
      "byteLimit": 2048000,
      "rowLimit": 10000
     },
     "inputWidgets": {},
     "nuid": "c3cc4d6f-c833-48fd-8c53-70a14e7f9fa6",
     "showTitle": false,
     "tableResultSettingsMap": {},
     "title": ""
    }
   },
   "outputs": [
    {
     "output_type": "stream",
     "name": "stdout",
     "output_type": "stream",
     "text": [
      "+--------+----------+\n|genres  |titleCount|\n+--------+----------+\n|Crime   |1198      |\n|Romance |1595      |\n|Thriller|1892      |\n+--------+----------+\nonly showing top 3 rows\n\n"
     ]
    }
   ],
   "source": [
    "df.groupBy('genres').agg(F.countDistinct('title').alias('titleCount')).show(3, False)"
   ]
  },
  {
   "cell_type": "code",
   "execution_count": 0,
   "metadata": {
    "application/vnd.databricks.v1+cell": {
     "cellMetadata": {
      "byteLimit": 2048000,
      "rowLimit": 10000
     },
     "inputWidgets": {},
     "nuid": "cbbae40a-5727-4f66-aa5f-05080b7809b2",
     "showTitle": false,
     "tableResultSettingsMap": {},
     "title": ""
    }
   },
   "outputs": [
    {
     "output_type": "stream",
     "name": "stdout",
     "output_type": "stream",
     "text": [
      "+--------+------------+\n|genres  |max(movieId)|\n+--------+------------+\n|Crime   |189713      |\n|Romance |190207      |\n|Thriller|190183      |\n+--------+------------+\nonly showing top 3 rows\n\n"
     ]
    }
   ],
   "source": [
    "df.groupBy('genres').agg(F.max(F.col('movieId'))).show(3,False)"
   ]
  },
  {
   "cell_type": "markdown",
   "metadata": {
    "application/vnd.databricks.v1+cell": {
     "cellMetadata": {},
     "inputWidgets": {},
     "nuid": "35485c6d-b906-445e-9aa2-11b4ea6da918",
     "showTitle": false,
     "tableResultSettingsMap": {},
     "title": ""
    }
   },
   "source": [
    "# Join"
   ]
  },
  {
   "cell_type": "code",
   "execution_count": 0,
   "metadata": {
    "application/vnd.databricks.v1+cell": {
     "cellMetadata": {
      "byteLimit": 2048000,
      "rowLimit": 10000
     },
     "inputWidgets": {},
     "nuid": "47d7af23-f935-4ee1-9d06-dbede4ca6f66",
     "showTitle": false,
     "tableResultSettingsMap": {},
     "title": ""
    }
   },
   "outputs": [],
   "source": [
    "rate = spark.read.options(header='True', inferSchema='True' , delimiter = ',').csv('dbfs:/FileStore/ratings.csv')"
   ]
  },
  {
   "cell_type": "code",
   "execution_count": 0,
   "metadata": {
    "application/vnd.databricks.v1+cell": {
     "cellMetadata": {
      "byteLimit": 2048000,
      "rowLimit": 10000
     },
     "inputWidgets": {},
     "nuid": "121bcd37-d44c-40a8-87db-9f775f33af55",
     "showTitle": false,
     "tableResultSettingsMap": {},
     "title": ""
    }
   },
   "outputs": [
    {
     "output_type": "stream",
     "name": "stdout",
     "output_type": "stream",
     "text": [
      "root\n |-- userId: integer (nullable = true)\n |-- movieId: integer (nullable = true)\n |-- rating: double (nullable = true)\n |-- timestamp: integer (nullable = true)\n\n"
     ]
    }
   ],
   "source": [
    "rate.printSchema(\n",
    ")"
   ]
  },
  {
   "cell_type": "code",
   "execution_count": 0,
   "metadata": {
    "application/vnd.databricks.v1+cell": {
     "cellMetadata": {
      "byteLimit": 2048000,
      "rowLimit": 10000
     },
     "inputWidgets": {},
     "nuid": "30ee9f1b-6dbd-4098-8f7d-4d2ae426fdee",
     "showTitle": false,
     "tableResultSettingsMap": {},
     "title": ""
    }
   },
   "outputs": [
    {
     "output_type": "stream",
     "name": "stdout",
     "output_type": "stream",
     "text": [
      "+-------+------+------+---------+-----------------------+---------+\n|movieId|userId|rating|timestamp|title                  |genres   |\n+-------+------+------+---------+-----------------------+---------+\n|1      |1     |4.0   |964982703|Toy Story (1995)       |Fantasy  |\n|1      |1     |4.0   |964982703|Toy Story (1995)       |Comedy   |\n|1      |1     |4.0   |964982703|Toy Story (1995)       |Children |\n|1      |1     |4.0   |964982703|Toy Story (1995)       |Animation|\n|1      |1     |4.0   |964982703|Toy Story (1995)       |Adventure|\n|3      |1     |4.0   |964981247|Grumpier Old Men (1995)|Romance  |\n|3      |1     |4.0   |964981247|Grumpier Old Men (1995)|Comedy   |\n|6      |1     |4.0   |964982224|Heat (1995)            |Thriller |\n|6      |1     |4.0   |964982224|Heat (1995)            |Crime    |\n|6      |1     |4.0   |964982224|Heat (1995)            |Action   |\n+-------+------+------+---------+-----------------------+---------+\nonly showing top 10 rows\n\n"
     ]
    }
   ],
   "source": [
    "rate.join(df, ['movieId'], 'inner').show(10, False)"
   ]
  },
  {
   "cell_type": "code",
   "execution_count": 0,
   "metadata": {
    "application/vnd.databricks.v1+cell": {
     "cellMetadata": {
      "byteLimit": 2048000,
      "rowLimit": 10000
     },
     "inputWidgets": {},
     "nuid": "31e46075-7818-4b65-bb77-f87da6aad934",
     "showTitle": false,
     "tableResultSettingsMap": {},
     "title": ""
    }
   },
   "outputs": [
    {
     "output_type": "stream",
     "name": "stdout",
     "output_type": "stream",
     "text": [
      "+-------+------+------+---------+-----------------------+---------+\n|movieId|userId|rating|timestamp|title                  |genres   |\n+-------+------+------+---------+-----------------------+---------+\n|1      |1     |4.0   |964982703|Toy Story (1995)       |Fantasy  |\n|1      |1     |4.0   |964982703|Toy Story (1995)       |Comedy   |\n|1      |1     |4.0   |964982703|Toy Story (1995)       |Children |\n|1      |1     |4.0   |964982703|Toy Story (1995)       |Animation|\n|1      |1     |4.0   |964982703|Toy Story (1995)       |Adventure|\n|3      |1     |4.0   |964981247|Grumpier Old Men (1995)|Romance  |\n|3      |1     |4.0   |964981247|Grumpier Old Men (1995)|Comedy   |\n|6      |1     |4.0   |964982224|Heat (1995)            |Thriller |\n|6      |1     |4.0   |964982224|Heat (1995)            |Crime    |\n|6      |1     |4.0   |964982224|Heat (1995)            |Action   |\n+-------+------+------+---------+-----------------------+---------+\nonly showing top 10 rows\n\n"
     ]
    }
   ],
   "source": [
    "rate.join(df, ['movieId'], 'left_outer').show(10, False)"
   ]
  },
  {
   "cell_type": "code",
   "execution_count": 0,
   "metadata": {
    "application/vnd.databricks.v1+cell": {
     "cellMetadata": {
      "byteLimit": 2048000,
      "rowLimit": 10000
     },
     "inputWidgets": {},
     "nuid": "a44af5a9-1e55-4ee2-89fd-43d3dee6b04b",
     "showTitle": false,
     "tableResultSettingsMap": {},
     "title": ""
    }
   },
   "outputs": [
    {
     "output_type": "stream",
     "name": "stdout",
     "output_type": "stream",
     "text": [
      "+------+-------+------+---------+-------+-----------------------+---------+\n|userId|movieId|rating|timestamp|movieId|title                  |genres   |\n+------+-------+------+---------+-------+-----------------------+---------+\n|1     |1      |4.0   |964982703|1      |Toy Story (1995)       |Adventure|\n|1     |1      |4.0   |964982703|1      |Toy Story (1995)       |Animation|\n|1     |1      |4.0   |964982703|1      |Toy Story (1995)       |Children |\n|1     |1      |4.0   |964982703|1      |Toy Story (1995)       |Comedy   |\n|1     |1      |4.0   |964982703|1      |Toy Story (1995)       |Fantasy  |\n|1     |1      |4.0   |964982703|2      |Jumanji (1995)         |Adventure|\n|1     |1      |4.0   |964982703|2      |Jumanji (1995)         |Children |\n|1     |1      |4.0   |964982703|2      |Jumanji (1995)         |Fantasy  |\n|1     |1      |4.0   |964982703|3      |Grumpier Old Men (1995)|Comedy   |\n|1     |1      |4.0   |964982703|3      |Grumpier Old Men (1995)|Romance  |\n+------+-------+------+---------+-------+-----------------------+---------+\nonly showing top 10 rows\n\n"
     ]
    }
   ],
   "source": [
    "rate.crossJoin(df).show(10, False)"
   ]
  },
  {
   "cell_type": "markdown",
   "metadata": {
    "application/vnd.databricks.v1+cell": {
     "cellMetadata": {},
     "inputWidgets": {},
     "nuid": "5527f760-590f-4fd3-9c8a-93825b120ace",
     "showTitle": false,
     "tableResultSettingsMap": {},
     "title": ""
    }
   },
   "source": [
    "# Window"
   ]
  },
  {
   "cell_type": "code",
   "execution_count": 0,
   "metadata": {
    "application/vnd.databricks.v1+cell": {
     "cellMetadata": {
      "byteLimit": 2048000,
      "rowLimit": 10000
     },
     "inputWidgets": {},
     "nuid": "6a77fe8a-5cba-410f-a2cd-be22f14074c6",
     "showTitle": false,
     "tableResultSettingsMap": {},
     "title": ""
    }
   },
   "outputs": [
    {
     "output_type": "stream",
     "name": "stdout",
     "output_type": "stream",
     "text": [
      "+-------+----------------------------------------+------------------+\n|movieId|title                                   |genres            |\n+-------+----------------------------------------+------------------+\n|182727 |A Christmas Story Live! (2017)          |(no genres listed)|\n|193587 |Bungo Stray Dogs: Dead Apple (2018)     |Action            |\n|191005 |Gintama (2017)                          |Adventure         |\n|193587 |Bungo Stray Dogs: Dead Apple (2018)     |Animation         |\n|187595 |Solo: A Star Wars Story (2018)          |Children          |\n|193609 |Andrew Dice Clay: Dice Rules (1991)     |Comedy            |\n|189713 |BlacKkKlansman (2018)                   |Crime             |\n|193579 |Jon Stewart Has Left the Building (2015)|Documentary       |\n|193585 |Flint (2017)                            |Drama             |\n|193583 |No Game No Life: Zero (2017)            |Fantasy           |\n+-------+----------------------------------------+------------------+\nonly showing top 10 rows\n\n"
     ]
    }
   ],
   "source": [
    "from pyspark.sql.window import Window\n",
    "# print the highest movieId per genres\n",
    "w = Window.partitionBy('genres') \\\n",
    ".orderBy(F.desc(F.col('movieId'))) # creates windows per genres, and sort by movieId in each window\n",
    "df.withColumn('row', F.row_number().over(w)).filter(F.col('row') == 1).drop('row') \\\n",
    ".show(10,False) # numbering each row in each window"
   ]
  },
  {
   "cell_type": "code",
   "execution_count": 0,
   "metadata": {
    "application/vnd.databricks.v1+cell": {
     "cellMetadata": {},
     "inputWidgets": {},
     "nuid": "7733a0b6-2dc9-41e9-9406-b10af341ef80",
     "showTitle": false,
     "tableResultSettingsMap": {},
     "title": ""
    }
   },
   "outputs": [],
   "source": []
  }
 ],
 "metadata": {
  "application/vnd.databricks.v1+notebook": {
   "computePreferences": null,
   "dashboards": [],
   "environmentMetadata": null,
   "language": "python",
   "notebookMetadata": {
    "pythonIndentUnit": 4
   },
   "notebookName": "Pyspark Groupby&Join",
   "widgets": {}
  }
 },
 "nbformat": 4,
 "nbformat_minor": 0
}
