{
 "cells": [
  {
   "cell_type": "code",
   "execution_count": 0,
   "metadata": {
    "application/vnd.databricks.v1+cell": {
     "cellMetadata": {
      "byteLimit": 2048000,
      "rowLimit": 10000
     },
     "inputWidgets": {},
     "nuid": "791d9bee-5e9f-442c-84ba-0f24fdb8f083",
     "showTitle": false,
     "tableResultSettingsMap": {},
     "title": ""
    }
   },
   "outputs": [],
   "source": [
    "from pyspark import SparkContext"
   ]
  },
  {
   "cell_type": "code",
   "execution_count": 0,
   "metadata": {
    "application/vnd.databricks.v1+cell": {
     "cellMetadata": {
      "byteLimit": 2048000,
      "rowLimit": 10000
     },
     "inputWidgets": {},
     "nuid": "2925c26d-75b3-4061-a094-995ae45a5446",
     "showTitle": false,
     "tableResultSettingsMap": {},
     "title": ""
    }
   },
   "outputs": [],
   "source": [
    "text = ['a system of government by the whole population or all the eligible members of a state, typically through elected representatives.']\n",
    "text_file = sc.parallelize(text) # RDD생성."
   ]
  },
  {
   "cell_type": "code",
   "execution_count": 0,
   "metadata": {
    "application/vnd.databricks.v1+cell": {
     "cellMetadata": {
      "byteLimit": 2048000,
      "rowLimit": 10000
     },
     "inputWidgets": {},
     "nuid": "5fc4c5a3-39e7-430a-8c3d-2eff332571fc",
     "showTitle": false,
     "tableResultSettingsMap": {},
     "title": ""
    }
   },
   "outputs": [
    {
     "output_type": "stream",
     "name": "stdout",
     "output_type": "stream",
     "text": [
      "Out[3]: ['a system of government by the whole population or all the eligible members of a state, typically through elected representatives.']"
     ]
    }
   ],
   "source": [
    "text_file.take(100)"
   ]
  },
  {
   "cell_type": "code",
   "execution_count": 0,
   "metadata": {
    "application/vnd.databricks.v1+cell": {
     "cellMetadata": {
      "byteLimit": 2048000,
      "rowLimit": 10000
     },
     "inputWidgets": {},
     "nuid": "483543d5-7e5e-40ca-ba6c-d0c25d88e81f",
     "showTitle": false,
     "tableResultSettingsMap": {},
     "title": ""
    }
   },
   "outputs": [],
   "source": [
    "words = text_file.flatMap(lambda line: line.split(\" \"))"
   ]
  },
  {
   "cell_type": "code",
   "execution_count": 0,
   "metadata": {
    "application/vnd.databricks.v1+cell": {
     "cellMetadata": {
      "byteLimit": 2048000,
      "rowLimit": 10000
     },
     "inputWidgets": {},
     "nuid": "18edd1fe-683e-407e-aaa6-9dba7c4a8e53",
     "showTitle": false,
     "tableResultSettingsMap": {},
     "title": ""
    }
   },
   "outputs": [
    {
     "output_type": "stream",
     "name": "stdout",
     "output_type": "stream",
     "text": [
      "Out[6]: ['a',\n 'system',\n 'of',\n 'government',\n 'by',\n 'the',\n 'whole',\n 'population',\n 'or',\n 'all',\n 'the',\n 'eligible',\n 'members',\n 'of',\n 'a',\n 'state,',\n 'typically',\n 'through',\n 'elected',\n 'representatives.']"
     ]
    }
   ],
   "source": [
    "words.take(100)"
   ]
  },
  {
   "cell_type": "code",
   "execution_count": 0,
   "metadata": {
    "application/vnd.databricks.v1+cell": {
     "cellMetadata": {
      "byteLimit": 2048000,
      "rowLimit": 10000
     },
     "inputWidgets": {},
     "nuid": "e9bb82f8-14a5-40e9-a13e-5b693eda57f9",
     "showTitle": false,
     "tableResultSettingsMap": {},
     "title": ""
    }
   },
   "outputs": [],
   "source": [
    "word_counts = words.map(lambda word: (word, 1))"
   ]
  },
  {
   "cell_type": "code",
   "execution_count": 0,
   "metadata": {
    "application/vnd.databricks.v1+cell": {
     "cellMetadata": {
      "byteLimit": 2048000,
      "rowLimit": 10000
     },
     "inputWidgets": {},
     "nuid": "a408ade2-ae6c-4a30-8238-7c3e06ac9935",
     "showTitle": false,
     "tableResultSettingsMap": {},
     "title": ""
    }
   },
   "outputs": [
    {
     "output_type": "stream",
     "name": "stdout",
     "output_type": "stream",
     "text": [
      "Out[14]: [('of', 2),\n ('a', 2),\n ('by', 1),\n ('through', 1),\n ('population', 1),\n ('members', 1),\n ('eligible', 1),\n ('typically', 1),\n ('representatives.', 1),\n ('the', 2),\n ('whole', 1),\n ('system', 1),\n ('government', 1),\n ('or', 1),\n ('all', 1),\n ('state,', 1),\n ('elected', 1)]"
     ]
    }
   ],
   "source": [
    "word_counts.take(50)"
   ]
  },
  {
   "cell_type": "code",
   "execution_count": 0,
   "metadata": {
    "application/vnd.databricks.v1+cell": {
     "cellMetadata": {
      "byteLimit": 2048000,
      "rowLimit": 10000
     },
     "inputWidgets": {},
     "nuid": "9ed199fa-5b26-470c-b950-8c5e0c15e79c",
     "showTitle": false,
     "tableResultSettingsMap": {},
     "title": ""
    }
   },
   "outputs": [],
   "source": [
    "# The reduceByKey() transformation aggregates the counts for each word by summing up their values (a + b), resulting in the total count for each unique word.\n",
    "word_counts=word_counts.reduceByKey(lambda a,b: a+b)\n",
    "\n"
   ]
  },
  {
   "cell_type": "code",
   "execution_count": 0,
   "metadata": {
    "application/vnd.databricks.v1+cell": {
     "cellMetadata": {
      "byteLimit": 2048000,
      "rowLimit": 10000
     },
     "inputWidgets": {},
     "nuid": "859cf6a7-5fa7-49e7-8e93-79bd082b5609",
     "showTitle": false,
     "tableResultSettingsMap": {},
     "title": ""
    }
   },
   "outputs": [
    {
     "output_type": "stream",
     "name": "stdout",
     "output_type": "stream",
     "text": [
      "Out[11]: [('of', 2),\n ('a', 2),\n ('by', 1),\n ('through', 1),\n ('population', 1),\n ('members', 1),\n ('eligible', 1),\n ('typically', 1),\n ('representatives.', 1),\n ('the', 2),\n ('whole', 1),\n ('system', 1),\n ('government', 1),\n ('or', 1),\n ('all', 1),\n ('state,', 1),\n ('elected', 1)]"
     ]
    }
   ],
   "source": [
    "word_counts.take(50)"
   ]
  },
  {
   "cell_type": "code",
   "execution_count": 0,
   "metadata": {
    "application/vnd.databricks.v1+cell": {
     "cellMetadata": {},
     "inputWidgets": {},
     "nuid": "098e191c-3acb-4fd5-9c7d-ff51dacfc40c",
     "showTitle": false,
     "tableResultSettingsMap": {},
     "title": ""
    }
   },
   "outputs": [],
   "source": []
  }
 ],
 "metadata": {
  "application/vnd.databricks.v1+notebook": {
   "dashboards": [],
   "environmentMetadata": {
    "base_environment": "",
    "client": "1"
   },
   "language": "python",
   "notebookMetadata": {
    "pythonIndentUnit": 4
   },
   "notebookName": "\bWord-Count",
   "widgets": {}
  }
 },
 "nbformat": 4,
 "nbformat_minor": 0
}
